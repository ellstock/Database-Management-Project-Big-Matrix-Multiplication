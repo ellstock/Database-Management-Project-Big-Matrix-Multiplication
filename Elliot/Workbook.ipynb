{
 "cells": [
  {
   "cell_type": "code",
   "execution_count": null,
   "metadata": {},
   "outputs": [],
   "source": [
    "import sys\n",
    "import time"
   ]
  },
  {
   "cell_type": "code",
   "execution_count": null,
   "metadata": {},
   "outputs": [],
   "source": [
    "start.time = time.time()\n",
    "\n",
    "for line in sys.stdin :\n",
    "    line = line.strip()\n",
    "    element = line.split(\",\")\n",
    "    \n",
    "    provenance = element[0]\n",
    "    i = str(element[1])\n",
    "    j = str(element[2])\n",
    "    value = float(element[3])\n",
    "    \n",
    "        \n",
    "end_time = time.time()"
   ]
  },
  {
   "cell_type": "code",
   "execution_count": null,
   "metadata": {},
   "outputs": [],
   "source": [
    "# Here we are only working with A and B being 2x2 matrices\n",
    "\n",
    "if provenance == 'A' :\n",
    "    if i == 0 :\n",
    "        if j == 0 :\n",
    "            key = 'A00'\n",
    "            print '%s\\t%s' % (key, value)\n",
    "        else :\n",
    "            key = 'A01'\n",
    "            print '%s\\t%s' % (key, value)\n",
    "            \n",
    "    else : \n",
    "        if j == 0 :\n",
    "            key = 'A10'\n",
    "            print '%s\\t%s' % (key, value)\n",
    "        else :\n",
    "            key = 'A11'\n",
    "            print '%s\\t%s' % (key, value)\n",
    "            \n",
    "else :\n",
    "    if i == 0 :\n",
    "        if j == 0 :\n",
    "            key = 'B00'\n",
    "            print '%s\\t%s' % (key, value)\n",
    "        else :\n",
    "            key = 'B01'\n",
    "            print '%s\\t%s' % (key, value)\n",
    "            \n",
    "    else : \n",
    "        if j == 0 :\n",
    "            key = 'B10'\n",
    "            print '%s\\t%s' % (key, value)\n",
    "        else :\n",
    "            key = 'B11'\n",
    "            print '%s\\t%s' % (key, value)\n",
    "            \n",
    "            \n",
    "# Sort -> A00, A01, A10, A11, B00, B01, B10, B11"
   ]
  },
  {
   "cell_type": "code",
   "execution_count": null,
   "metadata": {},
   "outputs": [],
   "source": [
    "'C00' = 'A00'*'B00' + 'A01'*'B10'\n",
    "'C01' = 'A00'*'B01' + 'A01'*'B11'\n",
    "'C10' = 'A10'*'B00' + 'A11'*'B10'\n",
    "'C11' = 'A10'*'B01' + 'A11'*'B11'"
   ]
  },
  {
   "cell_type": "markdown",
   "metadata": {},
   "source": [
    "Here we split our large matrices into a 2x2 matrix with 4 blocks"
   ]
  },
  {
   "cell_type": "code",
   "execution_count": null,
   "metadata": {},
   "outputs": [],
   "source": [
    "if provenance == 'A' :\n",
    "    if i <= len(i)/2 :\n",
    "        if j <= len(j)/2 :\n",
    "            key = 'A00'\n",
    "            provenance_of_block = 'A' + str(i) + str(j)\n",
    "            print '%s\\t%s' % (key, provenance_of_block, value)\n",
    "        else : \n",
    "            key = 'A01'\n",
    "            provenance_of_block = 'A' + str(i) + str(j)\n",
    "            print '%s\\t%s' % (key, provenance_of_block, value)\n",
    "            \n",
    "    else : \n",
    "        if j <= len(j)/2 :\n",
    "            key = 'A10'\n",
    "            provenance_of_block = 'A' + str(i) + str(j)\n",
    "            print '%s\\t%s' % (key, provenance_of_block, value)\n",
    "        else :\n",
    "            key = 'A11'\n",
    "            provenance_of_block = 'A' + str(i) + str(j)\n",
    "            print '%s\\t%s' % (key, provenance_of_block, value)\n",
    "            \n",
    "else :\n",
    "    if i <= len(i)/2 :\n",
    "        if j <= len(j)/2 :\n",
    "            key = 'B00'\n",
    "            provenance_of_block = 'B' + str(i) + str(j)\n",
    "            print '%s\\t%s' % (key, provenance_of_block, value)\n",
    "        else :\n",
    "            key = 'B01'\n",
    "            provenance_of_block = 'B' + str(i) + str(j)\n",
    "            print '%s\\t%s' % (key, provenance_of_block, value)\n",
    "            \n",
    "    else : \n",
    "        if j <= len(j)/2 :\n",
    "            key = 'B10'\n",
    "            provenance_of_block = 'B' + str(i) + str(j)\n",
    "            print '%s\\t%s' % (key, provenance_of_block, value)\n",
    "        else :\n",
    "            key = 'B11'\n",
    "            provenance_of_block = 'B' + str(i) + str(j)\n",
    "            print '%s\\t%s' % (key, provenance_of_block, value)\n",
    "            "
   ]
  }
 ],
 "metadata": {
  "kernelspec": {
   "display_name": "Python 3",
   "language": "python",
   "name": "python3"
  },
  "language_info": {
   "codemirror_mode": {
    "name": "ipython",
    "version": 3
   },
   "file_extension": ".py",
   "mimetype": "text/x-python",
   "name": "python",
   "nbconvert_exporter": "python",
   "pygments_lexer": "ipython3",
   "version": "3.6.7"
  }
 },
 "nbformat": 4,
 "nbformat_minor": 2
}
